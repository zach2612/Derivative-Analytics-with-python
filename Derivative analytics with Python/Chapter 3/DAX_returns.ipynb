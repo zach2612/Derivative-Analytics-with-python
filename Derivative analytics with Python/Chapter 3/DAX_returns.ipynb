{
 "cells": [
  {
   "cell_type": "code",
   "execution_count": 1,
   "metadata": {},
   "outputs": [
    {
     "name": "stdout",
     "output_type": "stream",
     "text": [
      "importing Jupyter notebook from gbm_returns.ipynb\n"
     ]
    }
   ],
   "source": [
    "import sys\n",
    "import os\n",
    "import pandas_datareader as web\n",
    "import import_ipynb\n",
    "from gbm_returns import *"
   ]
  },
  {
   "cell_type": "code",
   "execution_count": 14,
   "metadata": {},
   "outputs": [],
   "source": [
    "# Read Data for DAX from the Web\n",
    "\n",
    "def read_dax_data():\n",
    "    ''' Reads historical DAX data from Yahoo! Finance, calculates log returns,\n",
    "    realized variance and vol'''\n",
    "    DAX = pd.read_csv('http://hilpisch.com/tr_eikon_eod_data_long.csv',\n",
    "                      index_col=0, parse_dates=True)['.GDAXI']\n",
    "    DAX = pd.DataFrame(DAX)\n",
    "    DAX = DAX.loc['2004-09-30':'2014-09-30'] \n",
    "    DAX.rename(columns={'.GDAXI': 'index'}, inplace=True)\n",
    "    DAX['returns'] = np.log(DAX['index'] / DAX['index'].shift(1))\n",
    "    DAX['rea_var'] = 252 * np.cumsum(DAX['returns'])/np.arange(len(DAX))\n",
    "    DAX['rea_vol'] = np.sqrt(DAX['rea_var'])\n",
    "    DAX = DAX.dropna()\n",
    "    return DAX\n",
    "\n",
    "def count_jumps(data, value):\n",
    "    ''' Counts the number of return jumps as defined in size by value.'''\n",
    "    jumps = np.sum(np.abs(data['returns']) > value)\n",
    "    return jumps"
   ]
  },
  {
   "cell_type": "code",
   "execution_count": 15,
   "metadata": {},
   "outputs": [
    {
     "name": "stderr",
     "output_type": "stream",
     "text": [
      "C:\\Anaconda3\\lib\\site-packages\\pandas\\core\\series.py:726: RuntimeWarning: invalid value encountered in sqrt\n",
      "  result = getattr(ufunc, method)(*inputs, **kwargs)\n"
     ]
    },
    {
     "data": {
      "text/html": [
       "<div>\n",
       "<style scoped>\n",
       "    .dataframe tbody tr th:only-of-type {\n",
       "        vertical-align: middle;\n",
       "    }\n",
       "\n",
       "    .dataframe tbody tr th {\n",
       "        vertical-align: top;\n",
       "    }\n",
       "\n",
       "    .dataframe thead th {\n",
       "        text-align: right;\n",
       "    }\n",
       "</style>\n",
       "<table border=\"1\" class=\"dataframe\">\n",
       "  <thead>\n",
       "    <tr style=\"text-align: right;\">\n",
       "      <th></th>\n",
       "      <th>index</th>\n",
       "      <th>returns</th>\n",
       "      <th>rea_var</th>\n",
       "      <th>rea_vol</th>\n",
       "    </tr>\n",
       "    <tr>\n",
       "      <th>Date</th>\n",
       "      <th></th>\n",
       "      <th></th>\n",
       "      <th></th>\n",
       "      <th></th>\n",
       "    </tr>\n",
       "  </thead>\n",
       "  <tbody>\n",
       "    <tr>\n",
       "      <th>2004-10-01</th>\n",
       "      <td>3994.96</td>\n",
       "      <td>0.025879</td>\n",
       "      <td>6.521555</td>\n",
       "      <td>2.553733</td>\n",
       "    </tr>\n",
       "    <tr>\n",
       "      <th>2004-10-04</th>\n",
       "      <td>4033.28</td>\n",
       "      <td>0.009546</td>\n",
       "      <td>4.463621</td>\n",
       "      <td>2.112728</td>\n",
       "    </tr>\n",
       "    <tr>\n",
       "      <th>2004-10-05</th>\n",
       "      <td>4048.71</td>\n",
       "      <td>0.003818</td>\n",
       "      <td>3.296490</td>\n",
       "      <td>1.815624</td>\n",
       "    </tr>\n",
       "    <tr>\n",
       "      <th>2004-10-06</th>\n",
       "      <td>4049.66</td>\n",
       "      <td>0.000235</td>\n",
       "      <td>2.487148</td>\n",
       "      <td>1.577070</td>\n",
       "    </tr>\n",
       "    <tr>\n",
       "      <th>2004-10-07</th>\n",
       "      <td>4043.36</td>\n",
       "      <td>-0.001557</td>\n",
       "      <td>1.911251</td>\n",
       "      <td>1.382480</td>\n",
       "    </tr>\n",
       "    <tr>\n",
       "      <th>...</th>\n",
       "      <td>...</td>\n",
       "      <td>...</td>\n",
       "      <td>...</td>\n",
       "      <td>...</td>\n",
       "    </tr>\n",
       "    <tr>\n",
       "      <th>2014-09-24</th>\n",
       "      <td>9661.97</td>\n",
       "      <td>0.006952</td>\n",
       "      <td>0.063600</td>\n",
       "      <td>0.252190</td>\n",
       "    </tr>\n",
       "    <tr>\n",
       "      <th>2014-09-25</th>\n",
       "      <td>9510.01</td>\n",
       "      <td>-0.015853</td>\n",
       "      <td>0.062042</td>\n",
       "      <td>0.249082</td>\n",
       "    </tr>\n",
       "    <tr>\n",
       "      <th>2014-09-26</th>\n",
       "      <td>9490.55</td>\n",
       "      <td>-0.002048</td>\n",
       "      <td>0.061820</td>\n",
       "      <td>0.248637</td>\n",
       "    </tr>\n",
       "    <tr>\n",
       "      <th>2014-09-29</th>\n",
       "      <td>9422.91</td>\n",
       "      <td>-0.007153</td>\n",
       "      <td>0.061105</td>\n",
       "      <td>0.247194</td>\n",
       "    </tr>\n",
       "    <tr>\n",
       "      <th>2014-09-30</th>\n",
       "      <td>9474.30</td>\n",
       "      <td>0.005439</td>\n",
       "      <td>0.061607</td>\n",
       "      <td>0.248208</td>\n",
       "    </tr>\n",
       "  </tbody>\n",
       "</table>\n",
       "<p>2435 rows × 4 columns</p>\n",
       "</div>"
      ],
      "text/plain": [
       "              index   returns   rea_var   rea_vol\n",
       "Date                                             \n",
       "2004-10-01  3994.96  0.025879  6.521555  2.553733\n",
       "2004-10-04  4033.28  0.009546  4.463621  2.112728\n",
       "2004-10-05  4048.71  0.003818  3.296490  1.815624\n",
       "2004-10-06  4049.66  0.000235  2.487148  1.577070\n",
       "2004-10-07  4043.36 -0.001557  1.911251  1.382480\n",
       "...             ...       ...       ...       ...\n",
       "2014-09-24  9661.97  0.006952  0.063600  0.252190\n",
       "2014-09-25  9510.01 -0.015853  0.062042  0.249082\n",
       "2014-09-26  9490.55 -0.002048  0.061820  0.248637\n",
       "2014-09-29  9422.91 -0.007153  0.061105  0.247194\n",
       "2014-09-30  9474.30  0.005439  0.061607  0.248208\n",
       "\n",
       "[2435 rows x 4 columns]"
      ]
     },
     "execution_count": 15,
     "metadata": {},
     "output_type": "execute_result"
    }
   ],
   "source": [
    "data = read_dax_data()  \n",
    "data"
   ]
  },
  {
   "cell_type": "code",
   "execution_count": 18,
   "metadata": {},
   "outputs": [
    {
     "data": {
      "text/plain": [
       "247"
      ]
     },
     "execution_count": 18,
     "metadata": {},
     "output_type": "execute_result"
    }
   ],
   "source": [
    "count_jumps(data,0.02)"
   ]
  },
  {
   "cell_type": "code",
   "execution_count": null,
   "metadata": {},
   "outputs": [],
   "source": []
  }
 ],
 "metadata": {
  "kernelspec": {
   "display_name": "Python 3",
   "language": "python",
   "name": "python3"
  },
  "language_info": {
   "codemirror_mode": {
    "name": "ipython",
    "version": 3
   },
   "file_extension": ".py",
   "mimetype": "text/x-python",
   "name": "python",
   "nbconvert_exporter": "python",
   "pygments_lexer": "ipython3",
   "version": "3.8.5"
  }
 },
 "nbformat": 4,
 "nbformat_minor": 4
}
